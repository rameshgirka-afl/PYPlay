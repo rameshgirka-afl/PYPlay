{
 "cells": [
  {
   "cell_type": "markdown",
   "id": "7bdc4dc2",
   "metadata": {},
   "source": [
    "An object is hashable if it has a hash value which never changes during its lifetime (it needs a __hash__() method), and can be compared to other objects (it needs an __eq__() method). Hashable objects which compare equal must have the same hash value.\n",
    "\n",
    "Hashability makes an object usable as a dictionary key and a set member, because these data structures use the hash value internally.\n",
    "\n",
    "Most of Python’s immutable built-in objects are hashable; mutable containers (such as lists or dictionaries) are not; immutable containers (such as tuples and frozensets) are only hashable if their elements are hashable. Objects which are instances of user-defined classes are hashable by default. They all compare unequal (except with themselves), and their hash value is derived from their id()."
   ]
  },
  {
   "cell_type": "code",
   "execution_count": 1,
   "id": "ad167755",
   "metadata": {
    "collapsed": true
   },
   "outputs": [
    {
     "data": {
      "text/plain": [
       "['ChainMap',\n",
       " 'Counter',\n",
       " 'OrderedDict',\n",
       " 'UserDict',\n",
       " 'UserList',\n",
       " 'UserString',\n",
       " '_Link',\n",
       " '_OrderedDictItemsView',\n",
       " '_OrderedDictKeysView',\n",
       " '_OrderedDictValuesView',\n",
       " '__all__',\n",
       " '__builtins__',\n",
       " '__cached__',\n",
       " '__doc__',\n",
       " '__file__',\n",
       " '__getattr__',\n",
       " '__loader__',\n",
       " '__name__',\n",
       " '__package__',\n",
       " '__path__',\n",
       " '__spec__',\n",
       " '_chain',\n",
       " '_collections_abc',\n",
       " '_count_elements',\n",
       " '_eq',\n",
       " '_heapq',\n",
       " '_iskeyword',\n",
       " '_itemgetter',\n",
       " '_proxy',\n",
       " '_recursive_repr',\n",
       " '_repeat',\n",
       " '_starmap',\n",
       " '_sys',\n",
       " '_tuplegetter',\n",
       " 'abc',\n",
       " 'defaultdict',\n",
       " 'deque',\n",
       " 'namedtuple']"
      ]
     },
     "execution_count": 1,
     "metadata": {},
     "output_type": "execute_result"
    }
   ],
   "source": [
    "import collections\n",
    "dir(collections)"
   ]
  },
  {
   "cell_type": "markdown",
   "id": "6d05ed8f",
   "metadata": {},
   "source": [
    "class dict(**kwargs)\n",
    "\n",
    "class dict(mapping, **kwargs)\n",
    "\n",
    "class dict(iterable, **kwargs)\n",
    "\n",
    "{Mapping Object}: A container object that supports arbitrary key lookups and implements the methods specified in the \n",
    "\n",
    "collections.abc.Mapping or collections.abc.MutableMapping abstract base classes. \n",
    "\n",
    "Examples include dict, collections.defaultdict, collections.OrderedDict and collections.Counter."
   ]
  },
  {
   "cell_type": "code",
   "execution_count": 57,
   "id": "e1173bee",
   "metadata": {},
   "outputs": [
    {
     "data": {
      "text/plain": [
       "['builtin_dir', 'os_dir']"
      ]
     },
     "execution_count": 57,
     "metadata": {},
     "output_type": "execute_result"
    }
   ],
   "source": [
    "#create a dict \n",
    "import os.path\n",
    "kwargs_dict = dict(builtin_dir=dir(),os_dir=dir(os.path))\n",
    "list(kwargs_dict) # list all keys of dictionary \n"
   ]
  },
  {
   "cell_type": "code",
   "execution_count": 58,
   "id": "a2c40f7f",
   "metadata": {},
   "outputs": [
    {
     "data": {
      "text/plain": [
       "2"
      ]
     },
     "execution_count": 58,
     "metadata": {},
     "output_type": "execute_result"
    }
   ],
   "source": [
    "map_kwargs = dict({\"key1\":\"value1\",\"complex_dir\":kwargs_dict})\n",
    "len(map_kwargs) # length of items "
   ]
  },
  {
   "cell_type": "code",
   "execution_count": 56,
   "id": "99502a0f",
   "metadata": {},
   "outputs": [
    {
     "data": {
      "text/plain": [
       "{'row1': [1, 2, 3], 'row_2': [4, 5, 6], 'key': 'value'}"
      ]
     },
     "execution_count": 56,
     "metadata": {},
     "output_type": "execute_result"
    }
   ],
   "source": [
    "iterable_dict = dict([('row1',[1,2,3]),('row_2',[4,5,6])],key='value')\n",
    "iterable_dict"
   ]
  },
  {
   "cell_type": "code",
   "execution_count": 52,
   "id": "3263c037",
   "metadata": {},
   "outputs": [
    {
     "data": {
      "text/plain": [
       "list"
      ]
     },
     "execution_count": 52,
     "metadata": {},
     "output_type": "execute_result"
    }
   ],
   "source": [
    "type(iterable_dict['row1'])"
   ]
  },
  {
   "cell_type": "code",
   "execution_count": null,
   "id": "b94454ef",
   "metadata": {},
   "outputs": [],
   "source": [
    "#fromkeys method \n",
    "#classmethod fromkeys(iterable[, value])¶\n",
    "newdict = "
   ]
  },
  {
   "cell_type": "markdown",
   "id": "0b144421",
   "metadata": {},
   "source": [
    "The objects returned by dict.keys(), dict.values() and dict.items() are view objects. They provide a dynamic view on the dictionary’s entries, which means that when the dictionary changes, the view reflects these changes."
   ]
  },
  {
   "cell_type": "code",
   "execution_count": 81,
   "id": "27089033",
   "metadata": {},
   "outputs": [
    {
     "name": "stdout",
     "output_type": "stream",
     "text": [
      "[1, 2, 3]\n",
      "[4, 5, 6]\n",
      "value\n"
     ]
    }
   ],
   "source": [
    "iter_ref = iter(iterable_dict)\n",
    "for key in iter_ref:\n",
    "    print(iterable_dict.get(key))\n"
   ]
  },
  {
   "cell_type": "code",
   "execution_count": 84,
   "id": "2dda2950",
   "metadata": {},
   "outputs": [
    {
     "ename": "StopIteration",
     "evalue": "",
     "output_type": "error",
     "traceback": [
      "\u001b[1;31m---------------------------------------------------------------------------\u001b[0m",
      "\u001b[1;31mStopIteration\u001b[0m                             Traceback (most recent call last)",
      "\u001b[1;32m~\\AppData\\Local\\Temp\\ipykernel_13800\\4176114217.py\u001b[0m in \u001b[0;36m<module>\u001b[1;34m\u001b[0m\n\u001b[1;32m----> 1\u001b[1;33m \u001b[0mfirst_next\u001b[0m \u001b[1;33m=\u001b[0m \u001b[0mnext\u001b[0m\u001b[1;33m(\u001b[0m\u001b[0miter_ref\u001b[0m\u001b[1;33m)\u001b[0m\u001b[1;33m\u001b[0m\u001b[1;33m\u001b[0m\u001b[0m\n\u001b[0m\u001b[0;32m      2\u001b[0m \u001b[0mtype\u001b[0m\u001b[1;33m(\u001b[0m\u001b[0mfirst_next\u001b[0m\u001b[1;33m)\u001b[0m\u001b[1;33m\u001b[0m\u001b[1;33m\u001b[0m\u001b[0m\n",
      "\u001b[1;31mStopIteration\u001b[0m: "
     ]
    }
   ],
   "source": [
    "first_next = next(iter_ref)\n",
    "type(first_next)"
   ]
  },
  {
   "cell_type": "code",
   "execution_count": null,
   "id": "9b073cad",
   "metadata": {},
   "outputs": [],
   "source": []
  }
 ],
 "metadata": {
  "kernelspec": {
   "display_name": "Python 3 (ipykernel)",
   "language": "python",
   "name": "python3"
  },
  "language_info": {
   "codemirror_mode": {
    "name": "ipython",
    "version": 3
   },
   "file_extension": ".py",
   "mimetype": "text/x-python",
   "name": "python",
   "nbconvert_exporter": "python",
   "pygments_lexer": "ipython3",
   "version": "3.9.13"
  }
 },
 "nbformat": 4,
 "nbformat_minor": 5
}
