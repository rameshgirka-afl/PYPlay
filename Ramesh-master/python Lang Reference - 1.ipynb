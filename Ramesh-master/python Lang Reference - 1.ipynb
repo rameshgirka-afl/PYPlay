{
 "cells": [
  {
   "cell_type": "markdown",
   "id": "2d36848e",
   "metadata": {},
   "source": [
    "# 1. Introduction\n",
    "1.1. Alternate Implementations\n",
    "1.2. Notation\n",
    "2. Lexical analysis\n",
    "2.1. Line structure\n",
    "2.2. Other tokens\n",
    "2.3. Identifiers and keywords\n",
    "2.4. Literals\n",
    "2.5. Operators\n",
    "2.6. Delimiters\n",
    "3. Data model\n",
    "3.1. Objects, values and types\n",
    "3.2. The standard type hierarchy\n",
    "3.3. Special method names\n",
    "3.4. Coroutines\n",
    "4. Execution model\n",
    "4.1. Structure of a program\n",
    "4.2. Naming and binding\n",
    "4.3. Exceptions\n",
    "5. The import system\n",
    "5.1. importlib\n",
    "5.2. Packages\n",
    "5.3. Searching\n",
    "5.4. Loading\n",
    "5.5. The Path Based Finder\n",
    "5.6. Replacing the standard import system\n",
    "5.7. Package Relative Imports\n",
    "5.8. Special considerations for __main__\n",
    "5.9. References"
   ]
  },
  {
   "cell_type": "code",
   "execution_count": null,
   "id": "a22666cd",
   "metadata": {},
   "outputs": [],
   "source": []
  }
 ],
 "metadata": {
  "kernelspec": {
   "display_name": "Python 3 (ipykernel)",
   "language": "python",
   "name": "python3"
  },
  "language_info": {
   "codemirror_mode": {
    "name": "ipython",
    "version": 3
   },
   "file_extension": ".py",
   "mimetype": "text/x-python",
   "name": "python",
   "nbconvert_exporter": "python",
   "pygments_lexer": "ipython3",
   "version": "3.9.13"
  }
 },
 "nbformat": 4,
 "nbformat_minor": 5
}
