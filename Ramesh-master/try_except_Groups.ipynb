{
 "cells": [
  {
   "cell_type": "code",
   "execution_count": 2,
   "id": "a7e74f03",
   "metadata": {
    "collapsed": true
   },
   "outputs": [
    {
     "name": "stdout",
     "output_type": "stream",
     "text": [
      "In\n",
      "Out\n",
      "_\n",
      "__\n",
      "___\n",
      "__builtin__\n",
      "__builtins__\n",
      "__doc__\n",
      "__loader__\n",
      "__name__\n",
      "__package__\n",
      "__spec__\n",
      "_dh\n",
      "_i\n",
      "_i1\n",
      "_i2\n",
      "_ih\n",
      "_ii\n",
      "_iii\n",
      "_oh\n",
      "exit\n",
      "get_ipython\n",
      "quit\n"
     ]
    }
   ],
   "source": [
    "try:\n",
    "    for item in dir():\n",
    "        print(item)\n",
    "except Exception as error: \n",
    "    print(error)"
   ]
  },
  {
   "cell_type": "code",
   "execution_count": null,
   "id": "89a671ab",
   "metadata": {},
   "outputs": [],
   "source": [
    "#except* "
   ]
  },
  {
   "cell_type": "code",
   "execution_count": null,
   "id": "cae65311",
   "metadata": {},
   "outputs": [],
   "source": [
    "#else clause "
   ]
  },
  {
   "cell_type": "code",
   "execution_count": 3,
   "id": "8adf986c",
   "metadata": {},
   "outputs": [],
   "source": [
    "#exception Groups and Inheritance. "
   ]
  },
  {
   "cell_type": "code",
   "execution_count": null,
   "id": "3771b157",
   "metadata": {},
   "outputs": [],
   "source": []
  }
 ],
 "metadata": {
  "kernelspec": {
   "display_name": "Python 3 (ipykernel)",
   "language": "python",
   "name": "python3"
  },
  "language_info": {
   "codemirror_mode": {
    "name": "ipython",
    "version": 3
   },
   "file_extension": ".py",
   "mimetype": "text/x-python",
   "name": "python",
   "nbconvert_exporter": "python",
   "pygments_lexer": "ipython3",
   "version": "3.9.13"
  }
 },
 "nbformat": 4,
 "nbformat_minor": 5
}
